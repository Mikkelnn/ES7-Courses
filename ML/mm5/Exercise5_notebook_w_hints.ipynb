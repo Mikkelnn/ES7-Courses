{
 "cells": [
  {
   "cell_type": "code",
   "execution_count": null,
   "metadata": {},
   "outputs": [],
   "source": [
    "from scipy.io import loadmat\n",
    "import numpy as np\n",
    "from scipy.stats import multivariate_normal as norm\n",
    "import matplotlib.pyplot as plt\n",
    "from sklearn.mixture import GaussianMixture as GMM"
   ]
  },
  {
   "cell_type": "markdown",
   "metadata": {},
   "source": [
    "# Exercise 5: Clustering\n",
    "This assignment is based on the previously generated 2-dimensional data of the three classes (5, 6 and 8) from the MNIST database of handwritten digits. \n",
    "\n",
    "First, mix the 2-dimensional data (training data only) by removing the labels and then use one Gaussian mixture model to model them. \n",
    "\n",
    "Secondly, compare the Gaussian mixture model with the Gaussian models trained in the previous assignment, in terms of mean and variance values as well as through visualisation."
   ]
  },
  {
   "cell_type": "markdown",
   "metadata": {},
   "source": [
    "## Loading the data and mixing\n",
    "First we load the exercise data set, combine the individual training sets into one and shuffle the data to ensure a random shuffle (here with a seed to ensure reproducability). "
   ]
  },
  {
   "cell_type": "code",
   "execution_count": null,
   "metadata": {},
   "outputs": [],
   "source": [
    "data_path = \"2D568class.mat\"\n",
    "data = loadmat(data_path)\n",
    "train5 = data[\"trn5_2dim\"] / 255\n",
    "train6 = data[\"trn6_2dim\"] / 255\n",
    "train8 = data[\"trn8_2dim\"] / 255\n",
    "\n",
    "trainset = np.concatenate([train5, train6, train8])\n",
    "np.random.seed(0)\n",
    "np.random.shuffle(trainset)"
   ]
  },
  {
   "cell_type": "markdown",
   "metadata": {},
   "source": [
    "## Creating a Gaussian Mixture model\n",
    "First create a Gaussian Mixture Model of the data using sklearn"
   ]
  },
  {
   "cell_type": "code",
   "execution_count": null,
   "metadata": {},
   "outputs": [],
   "source": []
  },
  {
   "cell_type": "markdown",
   "metadata": {},
   "source": [
    "## Creating Gaussian models\n",
    "Following the same approach from the previous exercises we can also estimate Gaussian models for each class"
   ]
  },
  {
   "cell_type": "code",
   "execution_count": null,
   "metadata": {},
   "outputs": [],
   "source": []
  },
  {
   "cell_type": "markdown",
   "metadata": {},
   "source": [
    "## Comparing means and covariance matrices.\n",
    "Let's look at the means and covariance matrices.\n",
    "\n",
    "First we extract the means and covariances from the GMM."
   ]
  },
  {
   "cell_type": "code",
   "execution_count": null,
   "metadata": {},
   "outputs": [],
   "source": []
  },
  {
   "cell_type": "markdown",
   "metadata": {},
   "source": [
    "Now we can compare the GMM means and covariances to the Gaussin models estimated for each class individually."
   ]
  },
  {
   "cell_type": "markdown",
   "metadata": {},
   "source": [
    "### Means"
   ]
  },
  {
   "cell_type": "code",
   "execution_count": null,
   "metadata": {},
   "outputs": [],
   "source": [
    "# for name, mean in {\"mean5\": mean5, \"mean6\": mean6, \"mean8\": mean8,\n",
    "#                    \"mean1_gmm\": mean1_gmm, \"mean2_gmm\": mean2_gmm, \"mean3_gmm\": mean3_gmm}.items():\n",
    "#     print(f\"{name}: {np.array2string(mean)}\")"
   ]
  },
  {
   "cell_type": "markdown",
   "metadata": {},
   "source": [
    "### Covariances"
   ]
  },
  {
   "cell_type": "code",
   "execution_count": null,
   "metadata": {},
   "outputs": [],
   "source": [
    "# fig, axs = plt.subplots(2, 3, figsize=(15, 10))\n",
    "\n",
    "# axs[0, 0].matshow(cov5)\n",
    "# for (i, j), z in np.ndenumerate(cov5):\n",
    "#     axs[0, 0].text(j, i, f'{z:0.1f}', ha='center', va='center')\n",
    "# axs[0, 0].set_title(\"Cov. Class: 5\")\n",
    "\n",
    "# axs[1, 0].matshow(cov1_gmm)\n",
    "# for (i, j), z in np.ndenumerate(cov1_gmm):\n",
    "#     axs[1, 0].text(j, i, f'{z:0.1f}', ha='center', va='center')\n",
    "# axs[1, 0].set_title(\"Cov. GMM kernel 1\")\n",
    "\n",
    "# axs[0, 1].matshow(cov6)\n",
    "# for (i, j), z in np.ndenumerate(cov6):\n",
    "#     axs[0, 1].text(j, i, f'{z:0.1f}', ha='center', va='center')\n",
    "# axs[0, 1].set_title(\"Cov. Class: 6\")\n",
    "\n",
    "# axs[1, 1].matshow(cov2_gmm)\n",
    "# for (i, j), z in np.ndenumerate(cov2_gmm):\n",
    "#     axs[1, 1].text(j, i, f'{z:0.1f}', ha='center', va='center')\n",
    "# axs[1, 1].set_title(\"Cov. GMM kernel 2\")\n",
    "\n",
    "# axs[0, 2].matshow(cov8)\n",
    "# for (i, j), z in np.ndenumerate(cov8):\n",
    "#     axs[0, 2].text(j, i, f'{z:0.1f}', ha='center', va='center')\n",
    "# axs[0, 2].set_title(\"Cov. Class: 8\")\n",
    "\n",
    "# c = axs[1, 2].matshow(cov1_gmm)\n",
    "# for (i, j), z in np.ndenumerate(cov3_gmm):\n",
    "#     axs[1, 2].text(j, i, f'{z:0.1f}', ha='center', va='center')\n",
    "# axs[1, 2].set_title(\"Cov. GMM kernel 3\")"
   ]
  },
  {
   "cell_type": "markdown",
   "metadata": {},
   "source": [
    "What do we see when comparing means and covariances?"
   ]
  },
  {
   "cell_type": "markdown",
   "metadata": {},
   "source": [
    "## Visualizing the models in contourplots.\n",
    "Now we would like to visualize our models to compare them."
   ]
  },
  {
   "cell_type": "markdown",
   "metadata": {},
   "source": [
    "We first generate some points to be able to sample from the models."
   ]
  },
  {
   "cell_type": "code",
   "execution_count": null,
   "metadata": {},
   "outputs": [],
   "source": [
    "# Create points to do a contour a plot"
   ]
  },
  {
   "cell_type": "markdown",
   "metadata": {},
   "source": [
    "We can also visualize the separate Gaussian models from the GMM by creating Gassians from the classwise means and covariances of the GMM model."
   ]
  },
  {
   "cell_type": "code",
   "execution_count": null,
   "metadata": {},
   "outputs": [],
   "source": []
  },
  {
   "cell_type": "markdown",
   "metadata": {},
   "source": [
    "Now we sample from the models using the generated points."
   ]
  },
  {
   "cell_type": "code",
   "execution_count": null,
   "metadata": {},
   "outputs": [],
   "source": []
  },
  {
   "cell_type": "markdown",
   "metadata": {},
   "source": [
    "The model samples can then be visualized in a contour plot."
   ]
  },
  {
   "cell_type": "code",
   "execution_count": null,
   "metadata": {},
   "outputs": [],
   "source": [
    "# Plot contours for the GMM, seperated GMM and individual estimated densities"
   ]
  },
  {
   "cell_type": "code",
   "execution_count": null,
   "metadata": {},
   "outputs": [],
   "source": []
  }
 ],
 "metadata": {
  "kernelspec": {
   "display_name": "Python 3",
   "language": "python",
   "name": "python3"
  },
  "language_info": {
   "codemirror_mode": {
    "name": "ipython",
    "version": 3
   },
   "file_extension": ".py",
   "mimetype": "text/x-python",
   "name": "python",
   "nbconvert_exporter": "python",
   "pygments_lexer": "ipython3",
   "version": "3.9.6"
  },
  "orig_nbformat": 4
 },
 "nbformat": 4,
 "nbformat_minor": 2
}
